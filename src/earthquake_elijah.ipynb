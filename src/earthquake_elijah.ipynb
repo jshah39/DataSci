{
 "cells": [
  {
   "cell_type": "code",
   "execution_count": null,
   "metadata": {},
   "outputs": [],
   "source": [
    "# import data science libraries\n",
    "import pandas as pd\n",
    "import seaborn as sb\n",
    "import matplotlib.pyplot as plt # we only need pyplot\n",
    "sb.set() # set the default Seaborn style for graphics"
   ]
  },
  {
   "cell_type": "code",
   "execution_count": null,
   "metadata": {},
   "outputs": [],
   "source": [
    "# import data\n",
    "labels = pd.read_csv('../data/earthquake/train_labels.csv')\n",
    "labels.head()\n",
    "data = pd.read_csv('../data/earthquake/train_values.csv')\n",
    "data.head()\n",
    "# merge damage sustained into normal data\n",
    "combined_data = pd.merge(data, labels, on='building_id')"
   ]
  },
  {
   "cell_type": "code",
   "execution_count": null,
   "metadata": {},
   "outputs": [],
   "source": [
    "# initial data analysis\n",
    "data.info()\n",
    "labels.info()\n",
    "combined_data.info()"
   ]
  },
  {
   "cell_type": "code",
   "execution_count": null,
   "metadata": {},
   "outputs": [],
   "source": [
    "data_frame = combined_data[['count_floors_pre_eq','damage_grade']]\n",
    "data_frame.head()\n",
    "data_frame.info()"
   ]
  },
  {
   "cell_type": "code",
   "execution_count": null,
   "metadata": {},
   "outputs": [],
   "source": [
    "sb.countplot(x='count_floors_pre_eq',hue = 'damage_grade', data=data_frame)"
   ]
  },
  {
   "cell_type": "code",
   "execution_count": null,
   "metadata": {},
   "outputs": [],
   "source": [
    "# Find percentage of bulidings damaged/destroyed for each type of floor\n",
    "for x in range(1,10):\n",
    "    processed_data_frame = combined_data.copy(deep=True)\n",
    "    processed_data_frame.head()\n",
    "    floor_data_frame = processed_data_frame[processed_data_frame['count_floors_pre_eq']==x]\n",
    "    floor_data_frame.head()\n",
    "    collapsed = len(floor_data_frame[floor_data_frame['damage_grade'] == 3])\n",
    "    damaged = len(floor_data_frame[floor_data_frame['damage_grade'] == 2])\n",
    "    intact = len(floor_data_frame[floor_data_frame['damage_grade'] == 1])\n",
    "    total = intact+damaged+collapsed\n",
    "    result = (damaged+collapsed)/total\n",
    "    print(\"floors: \"+ str(x)+\" Percentage: \"+str(result)+ \" Total: \"+str(total)+ \" Intact: \"+str(intact))"
   ]
  },
  {
   "cell_type": "code",
   "execution_count": null,
   "metadata": {},
   "outputs": [],
   "source": [
    "# There is only one building with 8 floors which was damaged and one with 9 floors which was undamaged, might be outliers\n",
    "# or might want to investigate what makes 8th floor damaged but 9th floor not"
   ]
  },
  {
   "cell_type": "code",
   "execution_count": null,
   "metadata": {},
   "outputs": [],
   "source": [
    "ax = sb.violinplot(x=\"damage_grade\", y=\"count_floors_pre_eq\", data=combined_data)"
   ]
  },
  {
   "cell_type": "code",
   "execution_count": null,
   "metadata": {},
   "outputs": [],
   "source": [
    "ax = sb.countplot(x=\"roof_type\", hue=\"damage_grade\", data=combined_data)\n",
    "ax.set_title(\"Does roof type affect damage?\")"
   ]
  },
  {
   "cell_type": "code",
   "execution_count": null,
   "metadata": {},
   "outputs": [],
   "source": [
    "ax = sb.countplot(x=\"foundation_type\", hue=\"damage_grade\", data=combined_data)\n",
    "ax.set_title(\"Does foundation type affect damage?\")"
   ]
  },
  {
   "cell_type": "code",
   "execution_count": null,
   "metadata": {},
   "outputs": [],
   "source": [
    "processed_data_frame = combined_data.copy(deep=True)\n",
    "processed_data_frame.head()\n",
    "superstructure_data_frame = processed_data_frame[processed_data_frame['has_superstructure_adobe_mud']==1]\n",
    "ax = sb.countplot(x=\"damage_grade\", data=superstructure_data_frame)\n",
    "ax.set_title(\"Damage to mud buildings\")"
   ]
  },
  {
   "cell_type": "code",
   "execution_count": null,
   "metadata": {},
   "outputs": [],
   "source": [
    "processed_data_frame = combined_data.copy(deep=True)\n",
    "processed_data_frame.head()\n",
    "superstructure_data_frame = processed_data_frame[processed_data_frame['has_superstructure_mud_mortar_stone']==1]\n",
    "ax = sb.countplot(x=\"damage_grade\", data=superstructure_data_frame)\n",
    "ax.set_title(\"Damage to mortar-stone buildings\")"
   ]
  },
  {
   "cell_type": "code",
   "execution_count": null,
   "metadata": {},
   "outputs": [],
   "source": [
    "processed_data_frame = combined_data.copy(deep=True)\n",
    "processed_data_frame.head()\n",
    "superstructure_data_frame = processed_data_frame[processed_data_frame['has_superstructure_stone_flag']==1]\n",
    "ax = sb.countplot(x=\"damage_grade\", data=superstructure_data_frame)\n",
    "ax.set_title(\"Damage of stone buildings\")"
   ]
  },
  {
   "cell_type": "code",
   "execution_count": null,
   "metadata": {},
   "outputs": [],
   "source": [
    "processed_data_frame = combined_data.copy(deep=True)\n",
    "processed_data_frame.head()\n",
    "superstructure_data_frame = processed_data_frame[processed_data_frame['has_superstructure_cement_mortar_stone']==1]\n",
    "ax = sb.countplot(x=\"damage_grade\", data=superstructure_data_frame)\n",
    "ax.set_title(\"Damage to cement-mortar buildings\")"
   ]
  },
  {
   "cell_type": "code",
   "execution_count": null,
   "metadata": {},
   "outputs": [],
   "source": [
    "processed_data_frame = combined_data.copy(deep=True)\n",
    "processed_data_frame.head()\n",
    "superstructure_data_frame = processed_data_frame[processed_data_frame['has_superstructure_mud_mortar_brick']==1]\n",
    "ax = sb.countplot(x=\"damage_grade\", data=superstructure_data_frame)\n",
    "ax.set_title(\"Damage to mud-mortar-brick buildings\")"
   ]
  },
  {
   "cell_type": "code",
   "execution_count": null,
   "metadata": {},
   "outputs": [],
   "source": [
    "processed_data_frame = combined_data.copy(deep=True)\n",
    "processed_data_frame.head()\n",
    "superstructure_data_frame = processed_data_frame[processed_data_frame['has_superstructure_cement_mortar_brick']==1]\n",
    "ax = sb.countplot(x=\"damage_grade\", data=superstructure_data_frame)\n",
    "ax.set_title(\"Damage to cement-mortar-brick buildings\")"
   ]
  },
  {
   "cell_type": "code",
   "execution_count": null,
   "metadata": {},
   "outputs": [],
   "source": [
    "processed_data_frame = combined_data.copy(deep=True)\n",
    "processed_data_frame.head()\n",
    "superstructure_data_frame = processed_data_frame[processed_data_frame['has_superstructure_timber']==1]\n",
    "ax = sb.countplot(x=\"damage_grade\", data=superstructure_data_frame)\n",
    "ax.set_title(\"Damage to timber buildings\")"
   ]
  },
  {
   "cell_type": "code",
   "execution_count": null,
   "metadata": {},
   "outputs": [],
   "source": [
    "processed_data_frame = combined_data.copy(deep=True)\n",
    "processed_data_frame.head()\n",
    "superstructure_data_frame = processed_data_frame[processed_data_frame['has_superstructure_bamboo']==1]\n",
    "ax = sb.countplot(x=\"damage_grade\", data=superstructure_data_frame)\n",
    "ax.set_title(\"Damage to bambooo buildings\")"
   ]
  },
  {
   "cell_type": "code",
   "execution_count": null,
   "metadata": {},
   "outputs": [],
   "source": [
    "processed_data_frame = combined_data.copy(deep=True)\n",
    "processed_data_frame.head()\n",
    "superstructure_data_frame = processed_data_frame[processed_data_frame['has_superstructure_rc_non_engineered']==1]\n",
    "ax = sb.countplot(x=\"damage_grade\", data=superstructure_data_frame)\n",
    "ax.set_title(\"Damage to non-engineered reinforced concrete buildings\")"
   ]
  },
  {
   "cell_type": "code",
   "execution_count": null,
   "metadata": {},
   "outputs": [],
   "source": [
    "processed_data_frame = combined_data.copy(deep=True)\n",
    "processed_data_frame.head()\n",
    "superstructure_data_frame = processed_data_frame[processed_data_frame['has_superstructure_rc_engineered']==1]\n",
    "ax = sb.countplot(x=\"damage_grade\", data=superstructure_data_frame)\n",
    "ax.set_title(\"Damage to engineered reinforced concrete buildings\")"
   ]
  },
  {
   "cell_type": "code",
   "execution_count": null,
   "metadata": {},
   "outputs": [],
   "source": [
    "processed_data_frame = combined_data.copy(deep=True)\n",
    "processed_data_frame.head()\n",
    "superstructure_data_frame = processed_data_frame[processed_data_frame['has_secondary_use']==1]\n",
    "ax = sb.countplot(x=\"damage_grade\", data=superstructure_data_frame)\n",
    "ax.set_title(\"Damage to buildings with secondary use\")\n",
    "print(\"buildings with secondary use are generally less damaged than those with one use, better engineered?\")"
   ]
  },
  {
   "cell_type": "code",
   "execution_count": null,
   "metadata": {},
   "outputs": [],
   "source": [
    "processed_data_frame = combined_data.copy(deep=True)\n",
    "processed_data_frame.head()\n",
    "superstructure_data_frame = processed_data_frame[processed_data_frame['has_secondary_use']==0]\n",
    "ax = sb.countplot(x=\"damage_grade\", data=superstructure_data_frame)\n",
    "ax.set_title(\"Damage to buildings with no secondary use\")"
   ]
  },
  {
   "cell_type": "code",
   "execution_count": null,
   "metadata": {},
   "outputs": [],
   "source": []
  }
 ],
 "metadata": {
  "kernelspec": {
   "display_name": "Python 3",
   "language": "python",
   "name": "python3"
  },
  "language_info": {
   "codemirror_mode": {
    "name": "ipython",
    "version": 3
   },
   "file_extension": ".py",
   "mimetype": "text/x-python",
   "name": "python",
   "nbconvert_exporter": "python",
   "pygments_lexer": "ipython3",
   "version": "3.8.1"
  }
 },
 "nbformat": 4,
 "nbformat_minor": 4
}
