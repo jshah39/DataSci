{
 "cells": [
  {
   "cell_type": "code",
   "execution_count": 1,
   "metadata": {},
   "outputs": [],
   "source": [
    "# import data science libraries\n",
    "import pandas as pd\n",
    "import seaborn as sb\n",
    "import matplotlib.pyplot as plt # we only need pyplot\n",
    "sb.set() # set the default Seaborn style for graphics"
   ]
  },
  {
   "cell_type": "code",
   "execution_count": 2,
   "metadata": {},
   "outputs": [
    {
     "name": "stdout",
     "output_type": "stream",
     "text": [
      "<class 'pandas.core.frame.DataFrame'>\n",
      "RangeIndex: 260601 entries, 0 to 260600\n",
      "Data columns (total 2 columns):\n",
      "building_id     260601 non-null int64\n",
      "damage_grade    260601 non-null int64\n",
      "dtypes: int64(2)\n",
      "memory usage: 4.0 MB\n"
     ]
    }
   ],
   "source": [
    "# import data\n",
    "labels = pd.read_csv('../data/earthquake/train_labels.csv')\n",
    "labels.info()"
   ]
  },
  {
   "cell_type": "code",
   "execution_count": 3,
   "metadata": {},
   "outputs": [
    {
     "name": "stdout",
     "output_type": "stream",
     "text": [
      "<class 'pandas.core.frame.DataFrame'>\n",
      "RangeIndex: 260601 entries, 0 to 260600\n",
      "Data columns (total 39 columns):\n",
      "building_id                               260601 non-null int64\n",
      "geo_level_1_id                            260601 non-null int64\n",
      "geo_level_2_id                            260601 non-null int64\n",
      "geo_level_3_id                            260601 non-null int64\n",
      "count_floors_pre_eq                       260601 non-null int64\n",
      "age                                       260601 non-null int64\n",
      "area_percentage                           260601 non-null int64\n",
      "height_percentage                         260601 non-null int64\n",
      "land_surface_condition                    260601 non-null object\n",
      "foundation_type                           260601 non-null object\n",
      "roof_type                                 260601 non-null object\n",
      "ground_floor_type                         260601 non-null object\n",
      "other_floor_type                          260601 non-null object\n",
      "position                                  260601 non-null object\n",
      "plan_configuration                        260601 non-null object\n",
      "has_superstructure_adobe_mud              260601 non-null int64\n",
      "has_superstructure_mud_mortar_stone       260601 non-null int64\n",
      "has_superstructure_stone_flag             260601 non-null int64\n",
      "has_superstructure_cement_mortar_stone    260601 non-null int64\n",
      "has_superstructure_mud_mortar_brick       260601 non-null int64\n",
      "has_superstructure_cement_mortar_brick    260601 non-null int64\n",
      "has_superstructure_timber                 260601 non-null int64\n",
      "has_superstructure_bamboo                 260601 non-null int64\n",
      "has_superstructure_rc_non_engineered      260601 non-null int64\n",
      "has_superstructure_rc_engineered          260601 non-null int64\n",
      "has_superstructure_other                  260601 non-null int64\n",
      "legal_ownership_status                    260601 non-null object\n",
      "count_families                            260601 non-null int64\n",
      "has_secondary_use                         260601 non-null int64\n",
      "has_secondary_use_agriculture             260601 non-null int64\n",
      "has_secondary_use_hotel                   260601 non-null int64\n",
      "has_secondary_use_rental                  260601 non-null int64\n",
      "has_secondary_use_institution             260601 non-null int64\n",
      "has_secondary_use_school                  260601 non-null int64\n",
      "has_secondary_use_industry                260601 non-null int64\n",
      "has_secondary_use_health_post             260601 non-null int64\n",
      "has_secondary_use_gov_office              260601 non-null int64\n",
      "has_secondary_use_use_police              260601 non-null int64\n",
      "has_secondary_use_other                   260601 non-null int64\n",
      "dtypes: int64(31), object(8)\n",
      "memory usage: 77.5+ MB\n"
     ]
    }
   ],
   "source": [
    "data = pd.read_csv('../data/earthquake/train_values.csv')\n",
    "data.info()"
   ]
  },
  {
   "cell_type": "code",
   "execution_count": 4,
   "metadata": {},
   "outputs": [
    {
     "name": "stdout",
     "output_type": "stream",
     "text": [
      "<class 'pandas.core.frame.DataFrame'>\n",
      "Int64Index: 260601 entries, 0 to 260600\n",
      "Data columns (total 40 columns):\n",
      "building_id                               260601 non-null int64\n",
      "geo_level_1_id                            260601 non-null int64\n",
      "geo_level_2_id                            260601 non-null int64\n",
      "geo_level_3_id                            260601 non-null int64\n",
      "count_floors_pre_eq                       260601 non-null int64\n",
      "age                                       260601 non-null int64\n",
      "area_percentage                           260601 non-null int64\n",
      "height_percentage                         260601 non-null int64\n",
      "land_surface_condition                    260601 non-null object\n",
      "foundation_type                           260601 non-null object\n",
      "roof_type                                 260601 non-null object\n",
      "ground_floor_type                         260601 non-null object\n",
      "other_floor_type                          260601 non-null object\n",
      "position                                  260601 non-null object\n",
      "plan_configuration                        260601 non-null object\n",
      "has_superstructure_adobe_mud              260601 non-null int64\n",
      "has_superstructure_mud_mortar_stone       260601 non-null int64\n",
      "has_superstructure_stone_flag             260601 non-null int64\n",
      "has_superstructure_cement_mortar_stone    260601 non-null int64\n",
      "has_superstructure_mud_mortar_brick       260601 non-null int64\n",
      "has_superstructure_cement_mortar_brick    260601 non-null int64\n",
      "has_superstructure_timber                 260601 non-null int64\n",
      "has_superstructure_bamboo                 260601 non-null int64\n",
      "has_superstructure_rc_non_engineered      260601 non-null int64\n",
      "has_superstructure_rc_engineered          260601 non-null int64\n",
      "has_superstructure_other                  260601 non-null int64\n",
      "legal_ownership_status                    260601 non-null object\n",
      "count_families                            260601 non-null int64\n",
      "has_secondary_use                         260601 non-null int64\n",
      "has_secondary_use_agriculture             260601 non-null int64\n",
      "has_secondary_use_hotel                   260601 non-null int64\n",
      "has_secondary_use_rental                  260601 non-null int64\n",
      "has_secondary_use_institution             260601 non-null int64\n",
      "has_secondary_use_school                  260601 non-null int64\n",
      "has_secondary_use_industry                260601 non-null int64\n",
      "has_secondary_use_health_post             260601 non-null int64\n",
      "has_secondary_use_gov_office              260601 non-null int64\n",
      "has_secondary_use_use_police              260601 non-null int64\n",
      "has_secondary_use_other                   260601 non-null int64\n",
      "damage_grade                              260601 non-null int64\n",
      "dtypes: int64(32), object(8)\n",
      "memory usage: 81.5+ MB\n"
     ]
    }
   ],
   "source": [
    "combined_data = pd.merge(data, labels, on='building_id')\n",
    "combined_data.info()"
   ]
  },
  {
   "cell_type": "code",
   "execution_count": 5,
   "metadata": {},
   "outputs": [
    {
     "data": {
      "text/html": [
       "<div>\n",
       "<style scoped>\n",
       "    .dataframe tbody tr th:only-of-type {\n",
       "        vertical-align: middle;\n",
       "    }\n",
       "\n",
       "    .dataframe tbody tr th {\n",
       "        vertical-align: top;\n",
       "    }\n",
       "\n",
       "    .dataframe thead th {\n",
       "        text-align: right;\n",
       "    }\n",
       "</style>\n",
       "<table border=\"1\" class=\"dataframe\">\n",
       "  <thead>\n",
       "    <tr style=\"text-align: right;\">\n",
       "      <th></th>\n",
       "      <th>building_id</th>\n",
       "      <th>geo_level_1_id</th>\n",
       "      <th>geo_level_2_id</th>\n",
       "      <th>geo_level_3_id</th>\n",
       "      <th>count_floors_pre_eq</th>\n",
       "      <th>age</th>\n",
       "      <th>area_percentage</th>\n",
       "      <th>height_percentage</th>\n",
       "      <th>land_surface_condition</th>\n",
       "      <th>foundation_type</th>\n",
       "      <th>...</th>\n",
       "      <th>has_secondary_use_hotel</th>\n",
       "      <th>has_secondary_use_rental</th>\n",
       "      <th>has_secondary_use_institution</th>\n",
       "      <th>has_secondary_use_school</th>\n",
       "      <th>has_secondary_use_industry</th>\n",
       "      <th>has_secondary_use_health_post</th>\n",
       "      <th>has_secondary_use_gov_office</th>\n",
       "      <th>has_secondary_use_use_police</th>\n",
       "      <th>has_secondary_use_other</th>\n",
       "      <th>damage_grade</th>\n",
       "    </tr>\n",
       "  </thead>\n",
       "  <tbody>\n",
       "    <tr>\n",
       "      <td>0</td>\n",
       "      <td>802906</td>\n",
       "      <td>6</td>\n",
       "      <td>487</td>\n",
       "      <td>12198</td>\n",
       "      <td>2</td>\n",
       "      <td>30</td>\n",
       "      <td>6</td>\n",
       "      <td>5</td>\n",
       "      <td>t</td>\n",
       "      <td>r</td>\n",
       "      <td>...</td>\n",
       "      <td>0</td>\n",
       "      <td>0</td>\n",
       "      <td>0</td>\n",
       "      <td>0</td>\n",
       "      <td>0</td>\n",
       "      <td>0</td>\n",
       "      <td>0</td>\n",
       "      <td>0</td>\n",
       "      <td>0</td>\n",
       "      <td>3</td>\n",
       "    </tr>\n",
       "    <tr>\n",
       "      <td>1</td>\n",
       "      <td>28830</td>\n",
       "      <td>8</td>\n",
       "      <td>900</td>\n",
       "      <td>2812</td>\n",
       "      <td>2</td>\n",
       "      <td>10</td>\n",
       "      <td>8</td>\n",
       "      <td>7</td>\n",
       "      <td>o</td>\n",
       "      <td>r</td>\n",
       "      <td>...</td>\n",
       "      <td>0</td>\n",
       "      <td>0</td>\n",
       "      <td>0</td>\n",
       "      <td>0</td>\n",
       "      <td>0</td>\n",
       "      <td>0</td>\n",
       "      <td>0</td>\n",
       "      <td>0</td>\n",
       "      <td>0</td>\n",
       "      <td>2</td>\n",
       "    </tr>\n",
       "    <tr>\n",
       "      <td>2</td>\n",
       "      <td>94947</td>\n",
       "      <td>21</td>\n",
       "      <td>363</td>\n",
       "      <td>8973</td>\n",
       "      <td>2</td>\n",
       "      <td>10</td>\n",
       "      <td>5</td>\n",
       "      <td>5</td>\n",
       "      <td>t</td>\n",
       "      <td>r</td>\n",
       "      <td>...</td>\n",
       "      <td>0</td>\n",
       "      <td>0</td>\n",
       "      <td>0</td>\n",
       "      <td>0</td>\n",
       "      <td>0</td>\n",
       "      <td>0</td>\n",
       "      <td>0</td>\n",
       "      <td>0</td>\n",
       "      <td>0</td>\n",
       "      <td>3</td>\n",
       "    </tr>\n",
       "    <tr>\n",
       "      <td>3</td>\n",
       "      <td>590882</td>\n",
       "      <td>22</td>\n",
       "      <td>418</td>\n",
       "      <td>10694</td>\n",
       "      <td>2</td>\n",
       "      <td>10</td>\n",
       "      <td>6</td>\n",
       "      <td>5</td>\n",
       "      <td>t</td>\n",
       "      <td>r</td>\n",
       "      <td>...</td>\n",
       "      <td>0</td>\n",
       "      <td>0</td>\n",
       "      <td>0</td>\n",
       "      <td>0</td>\n",
       "      <td>0</td>\n",
       "      <td>0</td>\n",
       "      <td>0</td>\n",
       "      <td>0</td>\n",
       "      <td>0</td>\n",
       "      <td>2</td>\n",
       "    </tr>\n",
       "    <tr>\n",
       "      <td>4</td>\n",
       "      <td>201944</td>\n",
       "      <td>11</td>\n",
       "      <td>131</td>\n",
       "      <td>1488</td>\n",
       "      <td>3</td>\n",
       "      <td>30</td>\n",
       "      <td>8</td>\n",
       "      <td>9</td>\n",
       "      <td>t</td>\n",
       "      <td>r</td>\n",
       "      <td>...</td>\n",
       "      <td>0</td>\n",
       "      <td>0</td>\n",
       "      <td>0</td>\n",
       "      <td>0</td>\n",
       "      <td>0</td>\n",
       "      <td>0</td>\n",
       "      <td>0</td>\n",
       "      <td>0</td>\n",
       "      <td>0</td>\n",
       "      <td>3</td>\n",
       "    </tr>\n",
       "  </tbody>\n",
       "</table>\n",
       "<p>5 rows × 40 columns</p>\n",
       "</div>"
      ],
      "text/plain": [
       "   building_id  geo_level_1_id  geo_level_2_id  geo_level_3_id  \\\n",
       "0       802906               6             487           12198   \n",
       "1        28830               8             900            2812   \n",
       "2        94947              21             363            8973   \n",
       "3       590882              22             418           10694   \n",
       "4       201944              11             131            1488   \n",
       "\n",
       "   count_floors_pre_eq  age  area_percentage  height_percentage  \\\n",
       "0                    2   30                6                  5   \n",
       "1                    2   10                8                  7   \n",
       "2                    2   10                5                  5   \n",
       "3                    2   10                6                  5   \n",
       "4                    3   30                8                  9   \n",
       "\n",
       "  land_surface_condition foundation_type  ... has_secondary_use_hotel  \\\n",
       "0                      t               r  ...                       0   \n",
       "1                      o               r  ...                       0   \n",
       "2                      t               r  ...                       0   \n",
       "3                      t               r  ...                       0   \n",
       "4                      t               r  ...                       0   \n",
       "\n",
       "  has_secondary_use_rental has_secondary_use_institution  \\\n",
       "0                        0                             0   \n",
       "1                        0                             0   \n",
       "2                        0                             0   \n",
       "3                        0                             0   \n",
       "4                        0                             0   \n",
       "\n",
       "  has_secondary_use_school has_secondary_use_industry  \\\n",
       "0                        0                          0   \n",
       "1                        0                          0   \n",
       "2                        0                          0   \n",
       "3                        0                          0   \n",
       "4                        0                          0   \n",
       "\n",
       "   has_secondary_use_health_post  has_secondary_use_gov_office  \\\n",
       "0                              0                             0   \n",
       "1                              0                             0   \n",
       "2                              0                             0   \n",
       "3                              0                             0   \n",
       "4                              0                             0   \n",
       "\n",
       "   has_secondary_use_use_police  has_secondary_use_other  damage_grade  \n",
       "0                             0                        0             3  \n",
       "1                             0                        0             2  \n",
       "2                             0                        0             3  \n",
       "3                             0                        0             2  \n",
       "4                             0                        0             3  \n",
       "\n",
       "[5 rows x 40 columns]"
      ]
     },
     "execution_count": 5,
     "metadata": {},
     "output_type": "execute_result"
    }
   ],
   "source": [
    "combined_data.head()"
   ]
  },
  {
   "cell_type": "code",
   "execution_count": 6,
   "metadata": {},
   "outputs": [],
   "source": [
    "ageData=combined_data['age']"
   ]
  },
  {
   "cell_type": "code",
   "execution_count": 7,
   "metadata": {},
   "outputs": [
    {
     "data": {
      "text/plain": [
       "<matplotlib.axes._subplots.AxesSubplot at 0x13b0981e048>"
      ]
     },
     "execution_count": 7,
     "metadata": {},
     "output_type": "execute_result"
    },
    {
     "data": {
      "image/png": "[encoded data removed]",
      "text/plain": [
       "<Figure size 1080x360 with 1 Axes>"
      ]
     },
     "metadata": {
      "needs_background": "light"
     },
     "output_type": "display_data"
    }
   ],
   "source": [
    "f, axes = plt.subplots(1, 1, figsize=(15, 5))\n",
    "sb.distplot(ageData, kde = False, color = \"blue\")"
   ]
  },
  {
   "cell_type": "code",
   "execution_count": 8,
   "metadata": {},
   "outputs": [
    {
     "name": "stdout",
     "output_type": "stream",
     "text": [
      "Number of Damage Levels : 3\n",
      "2    148259\n",
      "3     87218\n",
      "1     25124\n",
      "Name: damage_grade, dtype: int64\n"
     ]
    }
   ],
   "source": [
    "print(\"Number of Damage Levels :\", len(combined_data[\"damage_grade\"].unique()))\n",
    "print(combined_data[\"damage_grade\"].value_counts())"
   ]
  },
  {
   "cell_type": "code",
   "execution_count": 9,
   "metadata": {},
   "outputs": [
    {
     "data": {
      "text/plain": [
       "<seaborn.axisgrid.FacetGrid at 0x13b081681c8>"
      ]
     },
     "execution_count": 9,
     "metadata": {},
     "output_type": "execute_result"
    },
    {
     "data": {
      "image/png": "[encoded data removed]",
      "text/plain": [
       "<Figure size 720x720 with 1 Axes>"
      ]
     },
     "metadata": {
      "needs_background": "light"
     },
     "output_type": "display_data"
    }
   ],
   "source": [
    "sb.catplot(y = \"damage_grade\", data = combined_data, kind = \"count\",height=10)"
   ]
  },
  {
   "cell_type": "code",
   "execution_count": 10,
   "metadata": {},
   "outputs": [
    {
     "data": {
      "text/plain": [
       "<seaborn.axisgrid.FacetGrid at 0x13b09999d88>"
      ]
     },
     "execution_count": 10,
     "metadata": {},
     "output_type": "execute_result"
    },
    {
     "data": {
      "image/png": "[encoded data removed]",
      "text/plain": [
       "<Figure size 360x360 with 1 Axes>"
      ]
     },
     "metadata": {
      "needs_background": "light"
     },
     "output_type": "display_data"
    }
   ],
   "source": [
    "sb.catplot(x=\"damage_grade\", y= \"age\",data =combined_data)"
   ]
  },
  {
   "cell_type": "code",
   "execution_count": 11,
   "metadata": {},
   "outputs": [
    {
     "data": {
      "text/plain": [
       "<matplotlib.axes._subplots.AxesSubplot at 0x13b09a006c8>"
      ]
     },
     "execution_count": 11,
     "metadata": {},
     "output_type": "execute_result"
    },
    {
     "data": {
      "image/png": "[encoded data removed]",
      "text/plain": [
       "<Figure size 432x288 with 1 Axes>"
      ]
     },
     "metadata": {
      "needs_background": "light"
     },
     "output_type": "display_data"
    }
   ],
   "source": [
    "sb.barplot(x=\"damage_grade\", y= \"age\",data =combined_data, orient = \"v\")"
   ]
  },
  {
   "cell_type": "code",
   "execution_count": 12,
   "metadata": {},
   "outputs": [
    {
     "data": {
      "image/png": "[encoded data removed]",
      "text/plain": [
       "<Figure size 1440x2160 with 1 Axes>"
      ]
     },
     "metadata": {
      "needs_background": "light"
     },
     "output_type": "display_data"
    }
   ],
   "source": [
    "fig, ax = plt.subplots()\n",
    "fig.set_size_inches(20, 30)\n",
    "sb.scatterplot(x=\"damage_grade\", y= \"age\",data =combined_data, style = \"damage_grade\", s=200)\n",
    "ax.set_xlim(0,4)\n",
    "ax.set_xticks(range(1,4))\n",
    "plt.show()\n",
    "\n",
    "\n",
    "#https://stackoverflow.com/questions/54822884/how-to-change-the-x-axis-range-in-seaborn-in-python\n",
    "#https://stackoverflow.com/questions/31594549/how-do-i-change-the-figure-size-for-a-seaborn-plot"
   ]
  },
  {
   "cell_type": "markdown",
   "metadata": {},
   "source": [
    "## Our usual thought will be older builings takes higher damage, but it is not true. Building of age 0 to 200 takes damage equaivalently. This could be due to buildings of diiferent materials"
   ]
  },
  {
   "cell_type": "code",
   "execution_count": 13,
   "metadata": {},
   "outputs": [
    {
     "data": {
      "text/plain": [
       "Text(0.5, 1.0, 'Which plan configuration contributed to most damage?')"
      ]
     },
     "execution_count": 13,
     "metadata": {},
     "output_type": "execute_result"
    },
    {
     "data": {
      "image/png": "[encoded data removed]",
      "text/plain": [
       "<Figure size 432x288 with 1 Axes>"
      ]
     },
     "metadata": {
      "needs_background": "light"
     },
     "output_type": "display_data"
    }
   ],
   "source": [
    "ax = sb.countplot(x=\"plan_configuration\", hue=\"damage_grade\", data=combined_data)\n",
    "ax.set_title(\"Which plan configuration contributed to most damage?\")"
   ]
  },
  {
   "cell_type": "code",
   "execution_count": 14,
   "metadata": {},
   "outputs": [
    {
     "data": {
      "text/plain": [
       "0    d\n",
       "1    d\n",
       "2    d\n",
       "3    d\n",
       "4    d\n",
       "Name: plan_configuration, dtype: object"
      ]
     },
     "execution_count": 14,
     "metadata": {},
     "output_type": "execute_result"
    }
   ],
   "source": [
    "planConfigDf = combined_data['plan_configuration']\n",
    "planConfigDf.head()"
   ]
  },
  {
   "cell_type": "code",
   "execution_count": 15,
   "metadata": {},
   "outputs": [],
   "source": [
    "dPlans = []\n",
    "\n",
    "for x in range(0,len(combined_data)):\n",
    "    if(planConfigDf.iloc[x] == 'd'):\n",
    "        dPlans.append(combined_data.iloc[x])"
   ]
  },
  {
   "cell_type": "code",
   "execution_count": 20,
   "metadata": {},
   "outputs": [
    {
     "data": {
      "text/plain": [
       "250072"
      ]
     },
     "execution_count": 20,
     "metadata": {},
     "output_type": "execute_result"
    }
   ],
   "source": [
    "len(dPlans)"
   ]
  },
  {
   "cell_type": "code",
   "execution_count": 24,
   "metadata": {},
   "outputs": [],
   "source": [
    "dPlansDf = pd.DataFrame(dPlans) \n",
    "\n",
    "#https://thispointer.com/python-pandas-how-to-convert-lists-to-a-dataframe/"
   ]
  },
  {
   "cell_type": "code",
   "execution_count": 25,
   "metadata": {},
   "outputs": [
    {
     "name": "stdout",
     "output_type": "stream",
     "text": [
      "<class 'pandas.core.frame.DataFrame'>\n",
      "Int64Index: 250072 entries, 0 to 260600\n",
      "Data columns (total 40 columns):\n",
      "building_id                               250072 non-null int64\n",
      "geo_level_1_id                            250072 non-null int64\n",
      "geo_level_2_id                            250072 non-null int64\n",
      "geo_level_3_id                            250072 non-null int64\n",
      "count_floors_pre_eq                       250072 non-null int64\n",
      "age                                       250072 non-null int64\n",
      "area_percentage                           250072 non-null int64\n",
      "height_percentage                         250072 non-null int64\n",
      "land_surface_condition                    250072 non-null object\n",
      "foundation_type                           250072 non-null object\n",
      "roof_type                                 250072 non-null object\n",
      "ground_floor_type                         250072 non-null object\n",
      "other_floor_type                          250072 non-null object\n",
      "position                                  250072 non-null object\n",
      "plan_configuration                        250072 non-null object\n",
      "has_superstructure_adobe_mud              250072 non-null int64\n",
      "has_superstructure_mud_mortar_stone       250072 non-null int64\n",
      "has_superstructure_stone_flag             250072 non-null int64\n",
      "has_superstructure_cement_mortar_stone    250072 non-null int64\n",
      "has_superstructure_mud_mortar_brick       250072 non-null int64\n",
      "has_superstructure_cement_mortar_brick    250072 non-null int64\n",
      "has_superstructure_timber                 250072 non-null int64\n",
      "has_superstructure_bamboo                 250072 non-null int64\n",
      "has_superstructure_rc_non_engineered      250072 non-null int64\n",
      "has_superstructure_rc_engineered          250072 non-null int64\n",
      "has_superstructure_other                  250072 non-null int64\n",
      "legal_ownership_status                    250072 non-null object\n",
      "count_families                            250072 non-null int64\n",
      "has_secondary_use                         250072 non-null int64\n",
      "has_secondary_use_agriculture             250072 non-null int64\n",
      "has_secondary_use_hotel                   250072 non-null int64\n",
      "has_secondary_use_rental                  250072 non-null int64\n",
      "has_secondary_use_institution             250072 non-null int64\n",
      "has_secondary_use_school                  250072 non-null int64\n",
      "has_secondary_use_industry                250072 non-null int64\n",
      "has_secondary_use_health_post             250072 non-null int64\n",
      "has_secondary_use_gov_office              250072 non-null int64\n",
      "has_secondary_use_use_police              250072 non-null int64\n",
      "has_secondary_use_other                   250072 non-null int64\n",
      "damage_grade                              250072 non-null int64\n",
      "dtypes: int64(32), object(8)\n",
      "memory usage: 78.2+ MB\n"
     ]
    }
   ],
   "source": [
    "dPlansDf.info()"
   ]
  },
  {
   "cell_type": "code",
   "execution_count": 32,
   "metadata": {},
   "outputs": [
    {
     "data": {
      "image/png": "[encoded data removed]",
      "text/plain": [
       "<Figure size 432x288 with 1 Axes>"
      ]
     },
     "metadata": {
      "needs_background": "light"
     },
     "output_type": "display_data"
    }
   ],
   "source": [
    "ax = sb.countplot(x=\"ground_floor_type\", hue=\"damage_grade\", data=dPlansDf)"
   ]
  },
  {
   "cell_type": "code",
   "execution_count": 33,
   "metadata": {},
   "outputs": [
    {
     "data": {
      "image/png": "[encoded data removed]",
      "text/plain": [
       "<Figure size 432x288 with 1 Axes>"
      ]
     },
     "metadata": {
      "needs_background": "light"
     },
     "output_type": "display_data"
    }
   ],
   "source": [
    "ax = sb.countplot(x=\"land_surface_condition\", hue=\"damage_grade\", data=dPlansDf)"
   ]
  },
  {
   "cell_type": "code",
   "execution_count": null,
   "metadata": {},
   "outputs": [],
   "source": []
  }
 ],
 "metadata": {
  "kernelspec": {
   "display_name": "Python 3",
   "language": "python",
   "name": "python3"
  },
  "language_info": {
   "codemirror_mode": {
    "name": "ipython",
    "version": 3
   },
   "file_extension": ".py",
   "mimetype": "text/x-python",
   "name": "python",
   "nbconvert_exporter": "python",
   "pygments_lexer": "ipython3",
   "version": "3.7.4"
  }
 },
 "nbformat": 4,
 "nbformat_minor": 2
}
